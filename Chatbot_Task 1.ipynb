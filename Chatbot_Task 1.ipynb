{
 "cells": [
  {
   "cell_type": "code",
   "execution_count": 26,
   "id": "693de794",
   "metadata": {},
   "outputs": [
    {
     "name": "stdout",
     "output_type": "stream",
     "text": [
      "Defaulting to user installation because normal site-packages is not writeableNote: you may need to restart the kernel to use updated packages.\n",
      "\n",
      "Requirement already satisfied: nltk in c:\\programdata\\anaconda3\\lib\\site-packages (3.7)\n",
      "Requirement already satisfied: joblib in c:\\programdata\\anaconda3\\lib\\site-packages (from nltk) (1.1.0)\n",
      "Requirement already satisfied: tqdm in c:\\programdata\\anaconda3\\lib\\site-packages (from nltk) (4.64.1)\n",
      "Requirement already satisfied: regex>=2021.8.3 in c:\\programdata\\anaconda3\\lib\\site-packages (from nltk) (2022.7.9)\n",
      "Requirement already satisfied: click in c:\\programdata\\anaconda3\\lib\\site-packages (from nltk) (8.0.4)\n",
      "Requirement already satisfied: colorama in c:\\programdata\\anaconda3\\lib\\site-packages (from click->nltk) (0.4.5)\n"
     ]
    }
   ],
   "source": [
    "pip install nltk\n"
   ]
  },
  {
   "cell_type": "code",
   "execution_count": 1,
   "id": "b42ebab8",
   "metadata": {},
   "outputs": [
    {
     "name": "stdout",
     "output_type": "stream",
     "text": [
      "Defaulting to user installation because normal site-packages is not writeableNote: you may need to restart the kernel to use updated packages.\n",
      "\n",
      "Collecting newspaper3k\n",
      "  Downloading newspaper3k-0.2.8-py3-none-any.whl (211 kB)\n",
      "     -------------------------------------- 211.1/211.1 kB 3.2 MB/s eta 0:00:00\n",
      "Requirement already satisfied: beautifulsoup4>=4.4.1 in c:\\programdata\\anaconda3\\lib\\site-packages (from newspaper3k) (4.11.1)\n",
      "Requirement already satisfied: PyYAML>=3.11 in c:\\programdata\\anaconda3\\lib\\site-packages (from newspaper3k) (6.0)\n",
      "Collecting tinysegmenter==0.3\n",
      "  Downloading tinysegmenter-0.3.tar.gz (16 kB)\n",
      "  Preparing metadata (setup.py): started\n",
      "  Preparing metadata (setup.py): finished with status 'done'\n",
      "Requirement already satisfied: nltk>=3.2.1 in c:\\programdata\\anaconda3\\lib\\site-packages (from newspaper3k) (3.7)\n",
      "Collecting feedfinder2>=0.0.4\n",
      "  Downloading feedfinder2-0.0.4.tar.gz (3.3 kB)\n",
      "  Preparing metadata (setup.py): started\n",
      "  Preparing metadata (setup.py): finished with status 'done'\n",
      "Requirement already satisfied: Pillow>=3.3.0 in c:\\programdata\\anaconda3\\lib\\site-packages (from newspaper3k) (9.2.0)\n",
      "Requirement already satisfied: cssselect>=0.9.2 in c:\\programdata\\anaconda3\\lib\\site-packages (from newspaper3k) (1.1.0)\n",
      "Requirement already satisfied: requests>=2.10.0 in c:\\programdata\\anaconda3\\lib\\site-packages (from newspaper3k) (2.28.1)\n",
      "Requirement already satisfied: tldextract>=2.0.1 in c:\\programdata\\anaconda3\\lib\\site-packages (from newspaper3k) (3.2.0)\n",
      "Requirement already satisfied: lxml>=3.6.0 in c:\\programdata\\anaconda3\\lib\\site-packages (from newspaper3k) (4.9.1)\n",
      "Collecting jieba3k>=0.35.1\n",
      "  Downloading jieba3k-0.35.1.zip (7.4 MB)\n",
      "     ---------------------------------------- 7.4/7.4 MB 4.1 MB/s eta 0:00:00\n",
      "  Preparing metadata (setup.py): started\n",
      "  Preparing metadata (setup.py): finished with status 'done'\n",
      "Requirement already satisfied: python-dateutil>=2.5.3 in c:\\programdata\\anaconda3\\lib\\site-packages (from newspaper3k) (2.8.2)\n",
      "Collecting feedparser>=5.2.1\n",
      "  Downloading feedparser-6.0.10-py3-none-any.whl (81 kB)\n",
      "     ---------------------------------------- 81.1/81.1 kB 2.3 MB/s eta 0:00:00\n",
      "Requirement already satisfied: soupsieve>1.2 in c:\\programdata\\anaconda3\\lib\\site-packages (from beautifulsoup4>=4.4.1->newspaper3k) (2.3.1)\n",
      "Requirement already satisfied: six in c:\\programdata\\anaconda3\\lib\\site-packages (from feedfinder2>=0.0.4->newspaper3k) (1.16.0)\n",
      "Collecting sgmllib3k\n",
      "  Downloading sgmllib3k-1.0.0.tar.gz (5.8 kB)\n",
      "  Preparing metadata (setup.py): started\n",
      "  Preparing metadata (setup.py): finished with status 'done'\n",
      "Requirement already satisfied: joblib in c:\\programdata\\anaconda3\\lib\\site-packages (from nltk>=3.2.1->newspaper3k) (1.1.0)\n",
      "Requirement already satisfied: click in c:\\programdata\\anaconda3\\lib\\site-packages (from nltk>=3.2.1->newspaper3k) (8.0.4)\n",
      "Requirement already satisfied: regex>=2021.8.3 in c:\\programdata\\anaconda3\\lib\\site-packages (from nltk>=3.2.1->newspaper3k) (2022.7.9)\n",
      "Requirement already satisfied: tqdm in c:\\programdata\\anaconda3\\lib\\site-packages (from nltk>=3.2.1->newspaper3k) (4.64.1)\n",
      "Requirement already satisfied: charset-normalizer<3,>=2 in c:\\programdata\\anaconda3\\lib\\site-packages (from requests>=2.10.0->newspaper3k) (2.0.4)\n",
      "Requirement already satisfied: urllib3<1.27,>=1.21.1 in c:\\programdata\\anaconda3\\lib\\site-packages (from requests>=2.10.0->newspaper3k) (1.26.11)\n",
      "Requirement already satisfied: certifi>=2017.4.17 in c:\\programdata\\anaconda3\\lib\\site-packages (from requests>=2.10.0->newspaper3k) (2022.9.14)\n",
      "Requirement already satisfied: idna<4,>=2.5 in c:\\programdata\\anaconda3\\lib\\site-packages (from requests>=2.10.0->newspaper3k) (3.3)\n",
      "Requirement already satisfied: requests-file>=1.4 in c:\\programdata\\anaconda3\\lib\\site-packages (from tldextract>=2.0.1->newspaper3k) (1.5.1)\n",
      "Requirement already satisfied: filelock>=3.0.8 in c:\\programdata\\anaconda3\\lib\\site-packages (from tldextract>=2.0.1->newspaper3k) (3.6.0)\n",
      "Requirement already satisfied: colorama in c:\\programdata\\anaconda3\\lib\\site-packages (from click->nltk>=3.2.1->newspaper3k) (0.4.5)\n",
      "Building wheels for collected packages: tinysegmenter, feedfinder2, jieba3k, sgmllib3k\n",
      "  Building wheel for tinysegmenter (setup.py): started\n",
      "  Building wheel for tinysegmenter (setup.py): finished with status 'done'\n",
      "  Created wheel for tinysegmenter: filename=tinysegmenter-0.3-py3-none-any.whl size=13540 sha256=8209f0ecce10f0650462e2351ada397b1079f9a0e2363bb2c64491a98716aa18\n",
      "  Stored in directory: c:\\users\\yash laxman gawari\\appdata\\local\\pip\\cache\\wheels\\94\\ad\\df\\a2a01300cea47d5695f242f7e925a805970106fd9e4b151468\n",
      "  Building wheel for feedfinder2 (setup.py): started\n",
      "  Building wheel for feedfinder2 (setup.py): finished with status 'done'\n",
      "  Created wheel for feedfinder2: filename=feedfinder2-0.0.4-py3-none-any.whl size=3341 sha256=c2f8f9e61afc0e7c6ac18e0f72a6286aa29793901a7e99ffdf159d4e01e87529\n",
      "  Stored in directory: c:\\users\\yash laxman gawari\\appdata\\local\\pip\\cache\\wheels\\43\\4a\\c2\\61a371b2524ac90805391c660d8dc4505705297f25e2b85a5d\n",
      "  Building wheel for jieba3k (setup.py): started\n",
      "  Building wheel for jieba3k (setup.py): finished with status 'done'\n",
      "  Created wheel for jieba3k: filename=jieba3k-0.35.1-py3-none-any.whl size=7398381 sha256=3a0b2eab009e84b0d57dba33ea1585929582d3b0923e661e029d670b532891f4\n",
      "  Stored in directory: c:\\users\\yash laxman gawari\\appdata\\local\\pip\\cache\\wheels\\c2\\22\\59\\8214a8d6357e9f540ce1f37f9a4362b6156b4ca81b37f1945f\n",
      "  Building wheel for sgmllib3k (setup.py): started\n",
      "  Building wheel for sgmllib3k (setup.py): finished with status 'done'\n",
      "  Created wheel for sgmllib3k: filename=sgmllib3k-1.0.0-py3-none-any.whl size=6048 sha256=cddfdada60949739655a32f9b5a0aa5e70ecae4cb5db96354e98d762cd729ec4\n",
      "  Stored in directory: c:\\users\\yash laxman gawari\\appdata\\local\\pip\\cache\\wheels\\65\\7a\\a7\\78c287f64e401255dff4c13fdbc672fed5efbfd21c530114e1\n",
      "Successfully built tinysegmenter feedfinder2 jieba3k sgmllib3k\n",
      "Installing collected packages: tinysegmenter, sgmllib3k, jieba3k, feedparser, feedfinder2, newspaper3k\n",
      "Successfully installed feedfinder2-0.0.4 feedparser-6.0.10 jieba3k-0.35.1 newspaper3k-0.2.8 sgmllib3k-1.0.0 tinysegmenter-0.3\n"
     ]
    }
   ],
   "source": [
    "pip install newspaper3k"
   ]
  },
  {
   "cell_type": "code",
   "execution_count": 1,
   "id": "9a37ebbf",
   "metadata": {},
   "outputs": [],
   "source": [
    "#Import the libraries \n",
    "from newspaper import Article \n",
    "import random \n",
    "import string\n",
    "import nltk\n",
    "from sklearn.feature_extraction.text import CountVectorizer\n",
    "from sklearn.metrics.pairwise import cosine_similarity \n",
    "import numpy as np\n",
    "import warnings\n",
    "warnings.filterwarnings('ignore') "
   ]
  },
  {
   "cell_type": "code",
   "execution_count": 2,
   "id": "e7e9e203",
   "metadata": {},
   "outputs": [
    {
     "data": {
      "text/plain": [
       "True"
      ]
     },
     "execution_count": 2,
     "metadata": {},
     "output_type": "execute_result"
    }
   ],
   "source": [
    "#Download the punkt package\n",
    "nltk.download('punkt', quiet = True)"
   ]
  },
  {
   "cell_type": "code",
   "execution_count": 3,
   "id": "5dfa544a",
   "metadata": {},
   "outputs": [],
   "source": [
    "#Get the article \n",
    "article = Article('https://www.mayoclinic.org/diseases-conditions/arthritis/symptoms-causes/syc-20350772')\n",
    "article.download()\n",
    "article.parse()\n",
    "article.nlp()\n",
    "corpus= article.text"
   ]
  },
  {
   "cell_type": "code",
   "execution_count": 4,
   "id": "09f376e3",
   "metadata": {},
   "outputs": [
    {
     "name": "stdout",
     "output_type": "stream",
     "text": [
      "Overview\n",
      "\n",
      "Osteoarthritis vs. rheumatoid arthritis Enlarge image Close Osteoarthritis vs. rheumatoid arthritis Osteoarthritis vs. rheumatoid arthritis Osteoarthritis, the most common form of arthritis, involves the wearing away of the cartilage that caps the bones in your joints. Rheumatoid arthritis is a disease in which the immune system attacks the joints, beginning with the lining of joints.\n",
      "\n",
      "Arthritis is the swelling and tenderness of one or more joints. The main symptoms of arthritis are joint pain and stiffness, which typically worsen with age. The most common types of arthritis are osteoarthritis and rheumatoid arthritis.\n",
      "\n",
      "Osteoarthritis causes cartilage — the hard, slippery tissue that covers the ends of bones where they form a joint — to break down. Rheumatoid arthritis is a disease in which the immune system attacks the joints, beginning with the lining of joints.\n",
      "\n",
      "Uric acid crystals, which form when there's too much uric acid in your blood, can cause gout. Infections or underlying disease, such as psoriasis or lupus, can cause other types of arthritis.\n",
      "\n",
      "Treatments vary depending on the type of arthritis. The main goals of arthritis treatments are to reduce symptoms and improve quality of life.\n",
      "\n",
      "Types\n",
      "\n",
      "Symptoms\n",
      "\n",
      "The most common signs and symptoms of arthritis involve the joints. Depending on the type of arthritis, signs and symptoms may include:\n",
      "\n",
      "Pain\n",
      "\n",
      "Stiffness\n",
      "\n",
      "Swelling\n",
      "\n",
      "Redness\n",
      "\n",
      "Decreased range of motion\n",
      "\n",
      "There is a problem with information submitted for this request. Review/update the information highlighted below and resubmit the form. From Mayo Clinic to your inbox Sign up for free, and stay up to date on research advancements, health tips and current health topics, like COVID-19, plus expertise on managing health. Click here for an email preview. Email ErrorEmail field is required ErrorInclude a valid email address Learn more about Mayo Clinic’s use of data. To provide you with the most relevant and helpful information, and understand which information is beneficial, we may combine your email and website usage information with other information we have about you. If you are a Mayo Clinic patient, this could include protected health information. If we combine this information with your protected health information, we will treat all of that information as protected health information and will only use or disclose that information as set forth in our notice of privacy practices. You may opt-out of email communications at any time by clicking on the unsubscribe link in the e-mail. Subscribe! Thank you for subscribing! You'll soon start receiving the latest Mayo Clinic health information you requested in your inbox. Sorry something went wrong with your subscription Please, try again in a couple of minutes Retry\n",
      "\n",
      "Causes\n",
      "\n",
      "The two main types of arthritis — osteoarthritis and rheumatoid arthritis — damage joints in different ways.\n",
      "\n",
      "Osteoarthritis\n",
      "\n",
      "The most common type of arthritis, osteoarthritis involves wear-and-tear damage to a joint's cartilage — the hard, slick coating on the ends of bones where they form a joint. Cartilage cushions the ends of the bones and allows nearly frictionless joint motion, but enough damage can result in bone grinding directly on bone, which causes pain and restricted movement. This wear and tear can occur over many years, or it can be hastened by a joint injury or infection.\n",
      "\n",
      "Osteoarthritis also causes changes in the bones and deterioration of the connective tissues that attach muscle to bone and hold the joint together. If cartilage in a joint is severely damaged, the joint lining may become inflamed and swollen.\n",
      "\n",
      "Rheumatoid arthritis\n",
      "\n",
      "In rheumatoid arthritis, the body's immune system attacks the lining of the joint capsule, a tough membrane that encloses all the joint parts. This lining (synovial membrane) becomes inflamed and swollen. The disease process can eventually destroy cartilage and bone within the joint.\n",
      "\n",
      "Risk factors\n",
      "\n",
      "Risk factors for arthritis include:\n",
      "\n",
      "Family history. Some types of arthritis run in families, so you may be more likely to develop arthritis if your parents or siblings have the disorder.\n",
      "\n",
      "Some types of arthritis run in families, so you may be more likely to develop arthritis if your parents or siblings have the disorder. Age. The risk of many types of arthritis — including osteoarthritis, rheumatoid arthritis and gout — increases with age.\n",
      "\n",
      "The risk of many types of arthritis — including osteoarthritis, rheumatoid arthritis and gout — increases with age. Your sex. Women are more likely than men to develop rheumatoid arthritis, while most of the people who have gout, another type of arthritis, are men.\n",
      "\n",
      "Women are more likely than men to develop rheumatoid arthritis, while most of the people who have gout, another type of arthritis, are men. Previous joint injury. People who have injured a joint, perhaps while playing a sport, are more likely to eventually develop arthritis in that joint.\n",
      "\n",
      "People who have injured a joint, perhaps while playing a sport, are more likely to eventually develop arthritis in that joint. Obesity. Carrying excess pounds puts stress on joints, particularly your knees, hips and spine. People with obesity have a higher risk of developing arthritis.\n",
      "\n",
      "Complications\n",
      "\n",
      "Severe arthritis, particularly if it affects your hands or arms, can make it difficult for you to do daily tasks. Arthritis of weight-bearing joints can keep you from walking comfortably or sitting up straight. In some cases, joints may gradually lose their alignment and shape.\n"
     ]
    }
   ],
   "source": [
    "print(corpus)"
   ]
  },
  {
   "cell_type": "code",
   "execution_count": 5,
   "id": "f011c3cb",
   "metadata": {},
   "outputs": [],
   "source": [
    "#Tokinization\n",
    "text = corpus\n",
    "sentence_list = nltk.sent_tokenize(text) # will return list of sentences"
   ]
  },
  {
   "cell_type": "code",
   "execution_count": 6,
   "id": "168bd5d8",
   "metadata": {},
   "outputs": [
    {
     "data": {
      "text/plain": [
       "['Overview\\n\\nOsteoarthritis vs. rheumatoid arthritis Enlarge image Close Osteoarthritis vs. rheumatoid arthritis Osteoarthritis vs. rheumatoid arthritis Osteoarthritis, the most common form of arthritis, involves the wearing away of the cartilage that caps the bones in your joints.',\n",
       " 'Rheumatoid arthritis is a disease in which the immune system attacks the joints, beginning with the lining of joints.',\n",
       " 'Arthritis is the swelling and tenderness of one or more joints.',\n",
       " 'The main symptoms of arthritis are joint pain and stiffness, which typically worsen with age.',\n",
       " 'The most common types of arthritis are osteoarthritis and rheumatoid arthritis.',\n",
       " 'Osteoarthritis causes cartilage — the hard, slippery tissue that covers the ends of bones where they form a joint — to break down.',\n",
       " 'Rheumatoid arthritis is a disease in which the immune system attacks the joints, beginning with the lining of joints.',\n",
       " \"Uric acid crystals, which form when there's too much uric acid in your blood, can cause gout.\",\n",
       " 'Infections or underlying disease, such as psoriasis or lupus, can cause other types of arthritis.',\n",
       " 'Treatments vary depending on the type of arthritis.',\n",
       " 'The main goals of arthritis treatments are to reduce symptoms and improve quality of life.',\n",
       " 'Types\\n\\nSymptoms\\n\\nThe most common signs and symptoms of arthritis involve the joints.',\n",
       " 'Depending on the type of arthritis, signs and symptoms may include:\\n\\nPain\\n\\nStiffness\\n\\nSwelling\\n\\nRedness\\n\\nDecreased range of motion\\n\\nThere is a problem with information submitted for this request.',\n",
       " 'Review/update the information highlighted below and resubmit the form.',\n",
       " 'From Mayo Clinic to your inbox Sign up for free, and stay up to date on research advancements, health tips and current health topics, like COVID-19, plus expertise on managing health.',\n",
       " 'Click here for an email preview.',\n",
       " 'Email ErrorEmail field is required ErrorInclude a valid email address Learn more about Mayo Clinic’s use of data.',\n",
       " 'To provide you with the most relevant and helpful information, and understand which information is beneficial, we may combine your email and website usage information with other information we have about you.',\n",
       " 'If you are a Mayo Clinic patient, this could include protected health information.',\n",
       " 'If we combine this information with your protected health information, we will treat all of that information as protected health information and will only use or disclose that information as set forth in our notice of privacy practices.',\n",
       " 'You may opt-out of email communications at any time by clicking on the unsubscribe link in the e-mail.',\n",
       " 'Subscribe!',\n",
       " 'Thank you for subscribing!',\n",
       " \"You'll soon start receiving the latest Mayo Clinic health information you requested in your inbox.\",\n",
       " 'Sorry something went wrong with your subscription Please, try again in a couple of minutes Retry\\n\\nCauses\\n\\nThe two main types of arthritis — osteoarthritis and rheumatoid arthritis — damage joints in different ways.',\n",
       " \"Osteoarthritis\\n\\nThe most common type of arthritis, osteoarthritis involves wear-and-tear damage to a joint's cartilage — the hard, slick coating on the ends of bones where they form a joint.\",\n",
       " 'Cartilage cushions the ends of the bones and allows nearly frictionless joint motion, but enough damage can result in bone grinding directly on bone, which causes pain and restricted movement.',\n",
       " 'This wear and tear can occur over many years, or it can be hastened by a joint injury or infection.',\n",
       " 'Osteoarthritis also causes changes in the bones and deterioration of the connective tissues that attach muscle to bone and hold the joint together.',\n",
       " 'If cartilage in a joint is severely damaged, the joint lining may become inflamed and swollen.',\n",
       " \"Rheumatoid arthritis\\n\\nIn rheumatoid arthritis, the body's immune system attacks the lining of the joint capsule, a tough membrane that encloses all the joint parts.\",\n",
       " 'This lining (synovial membrane) becomes inflamed and swollen.',\n",
       " 'The disease process can eventually destroy cartilage and bone within the joint.',\n",
       " 'Risk factors\\n\\nRisk factors for arthritis include:\\n\\nFamily history.',\n",
       " 'Some types of arthritis run in families, so you may be more likely to develop arthritis if your parents or siblings have the disorder.',\n",
       " 'Some types of arthritis run in families, so you may be more likely to develop arthritis if your parents or siblings have the disorder.',\n",
       " 'Age.',\n",
       " 'The risk of many types of arthritis — including osteoarthritis, rheumatoid arthritis and gout — increases with age.',\n",
       " 'The risk of many types of arthritis — including osteoarthritis, rheumatoid arthritis and gout — increases with age.',\n",
       " 'Your sex.',\n",
       " 'Women are more likely than men to develop rheumatoid arthritis, while most of the people who have gout, another type of arthritis, are men.',\n",
       " 'Women are more likely than men to develop rheumatoid arthritis, while most of the people who have gout, another type of arthritis, are men.',\n",
       " 'Previous joint injury.',\n",
       " 'People who have injured a joint, perhaps while playing a sport, are more likely to eventually develop arthritis in that joint.',\n",
       " 'People who have injured a joint, perhaps while playing a sport, are more likely to eventually develop arthritis in that joint.',\n",
       " 'Obesity.',\n",
       " 'Carrying excess pounds puts stress on joints, particularly your knees, hips and spine.',\n",
       " 'People with obesity have a higher risk of developing arthritis.',\n",
       " 'Complications\\n\\nSevere arthritis, particularly if it affects your hands or arms, can make it difficult for you to do daily tasks.',\n",
       " 'Arthritis of weight-bearing joints can keep you from walking comfortably or sitting up straight.',\n",
       " 'In some cases, joints may gradually lose their alignment and shape.']"
      ]
     },
     "execution_count": 6,
     "metadata": {},
     "output_type": "execute_result"
    }
   ],
   "source": [
    "sentence_list"
   ]
  },
  {
   "cell_type": "code",
   "execution_count": 7,
   "id": "dd74bf67",
   "metadata": {},
   "outputs": [],
   "source": [
    "#greeting respose \n",
    "def greeting_respone(text):\n",
    "  text = text.lower()\n",
    "\n",
    "  #Bots greeting respose\n",
    "  bot_greetings= ['hi','Hello','Good to see you', 'Hayy']\n",
    "  #Users greetings \n",
    "  user_greetings=['hi','how are you','hello', 'good evening','good morning','hola','hey','greetings']\n",
    "\n",
    "  for word in text.split():\n",
    "    if word in user_greetings:\n",
    "      return random.choice(bot_greetings)"
   ]
  },
  {
   "cell_type": "code",
   "execution_count": 8,
   "id": "203f6900",
   "metadata": {},
   "outputs": [],
   "source": [
    "def index_sort(list_var):\n",
    "  lenght = len(list_var)\n",
    "  list_index = list(range(0, lenght ))\n",
    "\n",
    "  x= list_var\n",
    "  for i in range(lenght):\n",
    "    for j in range(lenght):\n",
    "      if x[list_index[i]] > x[list_index[j]]:\n",
    "        temp = list_index[i]\n",
    "        list_index[i]= list_index[j]\n",
    "        list_index[j] = temp\n",
    "  return list_index"
   ]
  },
  {
   "cell_type": "code",
   "execution_count": 9,
   "id": "41ea75dd",
   "metadata": {},
   "outputs": [],
   "source": [
    "#Create the bot respone\n",
    "def bot_response(user_input):\n",
    "  user_input= user_input.lower()\n",
    "  sentence_list.append(user_input)\n",
    "  bot_response= ''\n",
    "  cm = CountVectorizer().fit_transform(sentence_list)\n",
    "  similarity_scores = cosine_similarity(cm[-1] , cm)\n",
    "  similarity_scores_list = similarity_scores.flatten()\n",
    "  index= index_sort(similarity_scores_list)\n",
    "  index = index[1:]\n",
    "  response_flag = 0\n",
    "\n",
    "  j=0\n",
    "  for i in range(len(index)):\n",
    "    if similarity_scores_list[index[i]]> 0.0:\n",
    "      bot_response = bot_response + ' ' + sentence_list[index[i]]\n",
    "      response_flag = 1\n",
    "      j = j+1\n",
    "    if j>2:\n",
    "      break\n",
    "  \n",
    "  if response_flag == 0:\n",
    "    bot_response = bot_response + ' ' + \"I apologize, but I don't understand.\" \n",
    "\n",
    "  sentence_list.remove(user_input)\n",
    "\n",
    "\n",
    "  return bot_response"
   ]
  },
  {
   "cell_type": "code",
   "execution_count": 12,
   "id": "860d069d",
   "metadata": {},
   "outputs": [],
   "source": [
    "#Create the bot respone\n",
    "def bot_response(user_input):\n",
    "  user_input= user_input.lower()\n",
    "  sentence_list.append(user_input)\n",
    "  bot_response= ''\n",
    "  cm = CountVectorizer().fit_transform(sentence_list)\n",
    "  similarity_scores = cosine_similarity(cm[-1] , cm)\n",
    "  similarity_scores_list = similarity_scores.flatten()\n",
    "  index= index_sort(similarity_scores_list)\n",
    "  index = index[1:]\n",
    "  response_flag = 0\n",
    "\n",
    "  j=0\n",
    "  for i in range(len(index)):\n",
    "    if similarity_scores_list[index[i]]> 0.0:\n",
    "      bot_response = bot_response + ' ' + sentence_list[index[i]]\n",
    "      response_flag = 1\n",
    "      j = j+1\n",
    "    if j>2:\n",
    "      break\n",
    "  \n",
    "  if response_flag == 0:\n",
    "    bot_response = bot_response + ' ' + \"I apologize, but I don't understand.\" \n",
    "\n",
    "  sentence_list.remove(user_input)\n",
    "\n",
    "\n",
    "  return bot_response"
   ]
  },
  {
   "cell_type": "code",
   "execution_count": 13,
   "id": "15895896",
   "metadata": {},
   "outputs": [
    {
     "name": "stdout",
     "output_type": "stream",
     "text": [
      "hi\n",
      "DocuBot: Hello \n",
      "\n",
      "what is arthritis\n",
      "DocuBot: Arthritis is the swelling and tenderness of one or more joints. The most common types of arthritis are osteoarthritis and rheumatoid arthritis. The risk of many types of arthritis — including osteoarthritis, rheumatoid arthritis and gout — increases with age. \n",
      "\n",
      " causes\n",
      "DocuBot: Osteoarthritis causes cartilage — the hard, slippery tissue that covers the ends of bones where they form a joint — to break down. Osteoarthritis also causes changes in the bones and deterioration of the connective tissues that attach muscle to bone and hold the joint together. Cartilage cushions the ends of the bones and allows nearly frictionless joint motion, but enough damage can result in bone grinding directly on bone, which causes pain and restricted movement. \n",
      "\n",
      "precaution\n",
      "DocuBot: I apologize, but I don't understand. \n",
      "\n",
      "precaution for arthritis\n",
      "DocuBot: Risk factors\n",
      "\n",
      "Risk factors for arthritis include:\n",
      "\n",
      "Family history. The most common types of arthritis are osteoarthritis and rheumatoid arthritis. Thank you for subscribing! \n",
      "\n",
      "bye\n",
      "DocuBot: Chat with you later !\n"
     ]
    }
   ],
   "source": [
    "#start the chat\n",
    "identification =['what is docubot','how can you help me']\n",
    "exit_list=['exit', 'see you later','bye','thank you']\n",
    "while(True):\n",
    "    user_input = input()\n",
    "    if user_input.lower() in exit_list:\n",
    "        print(\"DocuBot: Chat with you later !\")\n",
    "        break\n",
    "    if user_input.lower() in identification:\n",
    "        print(\"DocuBot: I am a doctor bot. I will answer your queries about Arthritis, if you want to exit any time, type bye.\\n\")\n",
    "    else:\n",
    "        if greeting_respone(user_input) != None:\n",
    "            print('DocuBot:' ,greeting_respone(user_input),'\\n')\n",
    "        else:\n",
    "            print('DocuBot:'+ bot_response(user_input),'\\n')\n"
   ]
  },
  {
   "cell_type": "code",
   "execution_count": null,
   "id": "8d13d5f7",
   "metadata": {},
   "outputs": [],
   "source": []
  }
 ],
 "metadata": {
  "kernelspec": {
   "display_name": "Python 3 (ipykernel)",
   "language": "python",
   "name": "python3"
  },
  "language_info": {
   "codemirror_mode": {
    "name": "ipython",
    "version": 3
   },
   "file_extension": ".py",
   "mimetype": "text/x-python",
   "name": "python",
   "nbconvert_exporter": "python",
   "pygments_lexer": "ipython3",
   "version": "3.9.13"
  }
 },
 "nbformat": 4,
 "nbformat_minor": 5
}
